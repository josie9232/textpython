{
 "cells": [
  {
   "cell_type": "code",
   "execution_count": 2,
   "metadata": {
    "collapsed": false
   },
   "outputs": [
    {
     "name": "stdout",
     "output_type": "stream",
     "text": [
      "78\n"
     ]
    }
   ],
   "source": [
    "fuck=78\n",
    "print(fuck)"
   ]
  },
  {
   "cell_type": "code",
   "execution_count": 9,
   "metadata": {
    "collapsed": false
   },
   "outputs": [
    {
     "name": "stdout",
     "output_type": "stream",
     "text": [
      "78\n"
     ]
    }
   ],
   "source": [
    "oko=fuck\n",
    "print(oko)"
   ]
  },
  {
   "cell_type": "code",
   "execution_count": 6,
   "metadata": {
    "collapsed": false
   },
   "outputs": [
    {
     "data": {
      "text/plain": [
       "1"
      ]
     },
     "execution_count": 6,
     "metadata": {},
     "output_type": "execute_result"
    }
   ],
   "source": [
    "sexy=100\n",
    "sexy-=99\n",
    "sexy"
   ]
  },
  {
   "cell_type": "code",
   "execution_count": 7,
   "metadata": {
    "collapsed": false
   },
   "outputs": [
    {
     "data": {
      "text/plain": [
       "0"
      ]
     },
     "execution_count": 7,
     "metadata": {},
     "output_type": "execute_result"
    }
   ],
   "source": [
    "qq=2\n",
    "qq%=1\n",
    "qq"
   ]
  },
  {
   "cell_type": "code",
   "execution_count": 8,
   "metadata": {
    "collapsed": false
   },
   "outputs": [
    {
     "data": {
      "text/plain": [
       "1024"
      ]
     },
     "execution_count": 8,
     "metadata": {},
     "output_type": "execute_result"
    }
   ],
   "source": [
    "gg=2\n",
    "gg**=10\n",
    "gg"
   ]
  },
  {
   "cell_type": "code",
   "execution_count": 10,
   "metadata": {
    "collapsed": false
   },
   "outputs": [
    {
     "data": {
      "text/plain": [
       "33"
      ]
     },
     "execution_count": 10,
     "metadata": {},
     "output_type": "execute_result"
    }
   ],
   "source": [
    "ff=100\n",
    "ff//=3\n",
    "ff"
   ]
  },
  {
   "cell_type": "code",
   "execution_count": 12,
   "metadata": {
    "collapsed": false
   },
   "outputs": [
    {
     "data": {
      "text/plain": [
       "str"
      ]
     },
     "execution_count": 12,
     "metadata": {},
     "output_type": "execute_result"
    }
   ],
   "source": [
    "type(\"sasasasajsfehufheuhfuehfue\")"
   ]
  },
  {
   "cell_type": "code",
   "execution_count": 13,
   "metadata": {
    "collapsed": false
   },
   "outputs": [
    {
     "data": {
      "text/plain": [
       "str"
      ]
     },
     "execution_count": 13,
     "metadata": {},
     "output_type": "execute_result"
    }
   ],
   "source": [
    "type(\"99.64645448\")"
   ]
  },
  {
   "cell_type": "code",
   "execution_count": 14,
   "metadata": {
    "collapsed": false
   },
   "outputs": [
    {
     "data": {
      "text/plain": [
       "float"
      ]
     },
     "execution_count": 14,
     "metadata": {},
     "output_type": "execute_result"
    }
   ],
   "source": [
    "type(99.3566194)"
   ]
  },
  {
   "cell_type": "code",
   "execution_count": 15,
   "metadata": {
    "collapsed": false
   },
   "outputs": [
    {
     "data": {
      "text/plain": [
       "1"
      ]
     },
     "execution_count": 15,
     "metadata": {},
     "output_type": "execute_result"
    }
   ],
   "source": [
    "ne=99\n",
    "ne%=2\n",
    "ne"
   ]
  },
  {
   "cell_type": "code",
   "execution_count": 16,
   "metadata": {
    "collapsed": false
   },
   "outputs": [
    {
     "data": {
      "text/plain": [
       "30.0"
      ]
     },
     "execution_count": 16,
     "metadata": {},
     "output_type": "execute_result"
    }
   ],
   "source": [
    "60/2"
   ]
  },
  {
   "cell_type": "code",
   "execution_count": 17,
   "metadata": {
    "collapsed": false
   },
   "outputs": [
    {
     "data": {
      "text/plain": [
       "22.5"
      ]
     },
     "execution_count": 17,
     "metadata": {},
     "output_type": "execute_result"
    }
   ],
   "source": [
    "45/2"
   ]
  },
  {
   "cell_type": "code",
   "execution_count": 18,
   "metadata": {
    "collapsed": false
   },
   "outputs": [
    {
     "data": {
      "text/plain": [
       "12"
      ]
     },
     "execution_count": 18,
     "metadata": {},
     "output_type": "execute_result"
    }
   ],
   "source": [
    "ne+11"
   ]
  },
  {
   "cell_type": "code",
   "execution_count": 22,
   "metadata": {
    "collapsed": false
   },
   "outputs": [
    {
     "data": {
      "text/plain": [
       "2653842057024840220661157025"
      ]
     },
     "execution_count": 22,
     "metadata": {},
     "output_type": "execute_result"
    }
   ],
   "source": [
    "ne*51515454545455"
   ]
  },
  {
   "cell_type": "code",
   "execution_count": 24,
   "metadata": {
    "collapsed": false
   },
   "outputs": [
    {
     "data": {
      "text/plain": [
       "1.0"
      ]
     },
     "execution_count": 24,
     "metadata": {},
     "output_type": "execute_result"
    }
   ],
   "source": [
    "ne/ne"
   ]
  },
  {
   "cell_type": "code",
   "execution_count": 28,
   "metadata": {
    "collapsed": false
   },
   "outputs": [
    {
     "data": {
      "text/plain": [
       "13.0"
      ]
     },
     "execution_count": 28,
     "metadata": {},
     "output_type": "execute_result"
    }
   ],
   "source": [
    "2+3*4-5/5"
   ]
  },
  {
   "cell_type": "code",
   "execution_count": 32,
   "metadata": {
    "collapsed": false
   },
   "outputs": [
    {
     "data": {
      "text/plain": [
       "100"
      ]
     },
     "execution_count": 32,
     "metadata": {},
     "output_type": "execute_result"
    }
   ],
   "source": [
    "True+99"
   ]
  },
  {
   "cell_type": "code",
   "execution_count": 33,
   "metadata": {
    "collapsed": false
   },
   "outputs": [
    {
     "ename": "ZeroDivisionError",
     "evalue": "division by zero",
     "output_type": "error",
     "traceback": [
      "\u001b[1;31m---------------------------------------------------------------------------\u001b[0m",
      "\u001b[1;31mZeroDivisionError\u001b[0m                         Traceback (most recent call last)",
      "\u001b[1;32m<ipython-input-33-30ff8fe02332>\u001b[0m in \u001b[0;36m<module>\u001b[1;34m()\u001b[0m\n\u001b[1;32m----> 1\u001b[1;33m \u001b[1;36m55\u001b[0m\u001b[1;33m/\u001b[0m\u001b[1;32mFalse\u001b[0m\u001b[1;33m\u001b[0m\u001b[0m\n\u001b[0m",
      "\u001b[1;31mZeroDivisionError\u001b[0m: division by zero"
     ]
    }
   ],
   "source": [
    "55/False"
   ]
  },
  {
   "cell_type": "code",
   "execution_count": 34,
   "metadata": {
    "collapsed": false
   },
   "outputs": [
    {
     "data": {
      "text/plain": [
       "99"
      ]
     },
     "execution_count": 34,
     "metadata": {},
     "output_type": "execute_result"
    }
   ],
   "source": [
    "int(99.9)"
   ]
  },
  {
   "cell_type": "code",
   "execution_count": 35,
   "metadata": {
    "collapsed": false
   },
   "outputs": [
    {
     "data": {
      "text/plain": [
       "210.0"
      ]
     },
     "execution_count": 35,
     "metadata": {},
     "output_type": "execute_result"
    }
   ],
   "source": [
    "float(210)"
   ]
  },
  {
   "cell_type": "code",
   "execution_count": 36,
   "metadata": {
    "collapsed": false
   },
   "outputs": [
    {
     "data": {
      "text/plain": [
       "256"
      ]
     },
     "execution_count": 36,
     "metadata": {},
     "output_type": "execute_result"
    }
   ],
   "source": [
    "int(0x100)"
   ]
  },
  {
   "cell_type": "code",
   "execution_count": 54,
   "metadata": {
    "collapsed": false
   },
   "outputs": [
    {
     "data": {
      "text/plain": [
       "46.0"
      ]
     },
     "execution_count": 54,
     "metadata": {},
     "output_type": "execute_result"
    }
   ],
   "source": [
    "qoo=2+3*5+8/4+9*3\n",
    "qoo"
   ]
  },
  {
   "cell_type": "code",
   "execution_count": 37,
   "metadata": {
    "collapsed": false
   },
   "outputs": [
    {
     "data": {
      "text/plain": [
       "256"
      ]
     },
     "execution_count": 37,
     "metadata": {},
     "output_type": "execute_result"
    }
   ],
   "source": [
    "16**2"
   ]
  },
  {
   "cell_type": "code",
   "execution_count": 38,
   "metadata": {
    "collapsed": false
   },
   "outputs": [
    {
     "data": {
      "text/plain": [
       "2601"
      ]
     },
     "execution_count": 38,
     "metadata": {},
     "output_type": "execute_result"
    }
   ],
   "source": [
    "0b101000101001"
   ]
  },
  {
   "cell_type": "code",
   "execution_count": 39,
   "metadata": {
    "collapsed": false
   },
   "outputs": [
    {
     "data": {
      "text/plain": [
       "8"
      ]
     },
     "execution_count": 39,
     "metadata": {},
     "output_type": "execute_result"
    }
   ],
   "source": [
    "0o10"
   ]
  },
  {
   "cell_type": "code",
   "execution_count": 40,
   "metadata": {
    "collapsed": false
   },
   "outputs": [
    {
     "data": {
      "text/plain": [
       "16"
      ]
     },
     "execution_count": 40,
     "metadata": {},
     "output_type": "execute_result"
    }
   ],
   "source": [
    "0x10"
   ]
  },
  {
   "cell_type": "code",
   "execution_count": 42,
   "metadata": {
    "collapsed": false
   },
   "outputs": [
    {
     "data": {
      "text/plain": [
       "2"
      ]
     },
     "execution_count": 42,
     "metadata": {},
     "output_type": "execute_result"
    }
   ],
   "source": [
    "0b10"
   ]
  },
  {
   "cell_type": "code",
   "execution_count": 43,
   "metadata": {
    "collapsed": false
   },
   "outputs": [
    {
     "name": "stdout",
     "output_type": "stream",
     "text": [
      "'212121'36454654654646856\n"
     ]
    }
   ],
   "source": [
    "print(\"'212121'36454654654646856\")"
   ]
  },
  {
   "cell_type": "code",
   "execution_count": 44,
   "metadata": {
    "collapsed": false
   },
   "outputs": [
    {
     "data": {
      "text/plain": [
       "\"'212121'36454654654646856\""
      ]
     },
     "execution_count": 44,
     "metadata": {},
     "output_type": "execute_result"
    }
   ],
   "source": [
    "\"'212121'36454654654646856\""
   ]
  },
  {
   "cell_type": "code",
   "execution_count": 45,
   "metadata": {
    "collapsed": false
   },
   "outputs": [
    {
     "name": "stdout",
     "output_type": "stream",
     "text": [
      "handsome\n",
      "humid\n",
      "tall\n",
      "fat\n"
     ]
    }
   ],
   "source": [
    "evan='''handsome\n",
    "humid\n",
    "tall\n",
    "fat'''\n",
    "print(evan)"
   ]
  },
  {
   "cell_type": "code",
   "execution_count": 46,
   "metadata": {
    "collapsed": false
   },
   "outputs": [
    {
     "data": {
      "text/plain": [
       "'handsome\\nhumid\\ntall\\nfat'"
      ]
     },
     "execution_count": 46,
     "metadata": {},
     "output_type": "execute_result"
    }
   ],
   "source": [
    "evan='''handsome\n",
    "humid\n",
    "tall\n",
    "fat'''\n",
    "evan"
   ]
  },
  {
   "cell_type": "code",
   "execution_count": 47,
   "metadata": {
    "collapsed": false
   },
   "outputs": [
    {
     "data": {
      "text/plain": [
       "'大牛比較懶'"
      ]
     },
     "execution_count": 47,
     "metadata": {},
     "output_type": "execute_result"
    }
   ],
   "source": [
    "\"\"\"大牛比較懶\"\"\""
   ]
  },
  {
   "cell_type": "code",
   "execution_count": 48,
   "metadata": {
    "collapsed": false
   },
   "outputs": [
    {
     "name": "stdout",
     "output_type": "stream",
     "text": [
      "懶\n",
      "較\n",
      "比\n",
      "牛\n",
      "大\n"
     ]
    }
   ],
   "source": [
    "for a in \"懶\",\"較\",\"比\",\"牛\",\"大\":\n",
    "    print(a)"
   ]
  },
  {
   "cell_type": "code",
   "execution_count": 55,
   "metadata": {
    "collapsed": false
   },
   "outputs": [
    {
     "name": "stdout",
     "output_type": "stream",
     "text": [
      "有一對同齡夫婦，一齊歡度他們的60歲生日。\n",
      "\n",
      "正在熱鬧時，突然，天使出現了。\n",
      "\n",
      "天使說：「我祝福你們的60歲，你們許願吧，我一定成全。」\n",
      "\n",
      "60歲的老婆說：「我好想環遊世界。」 \n",
      "天使說：「成全你。」\n",
      "\n",
      "噹！ 太太手上是環遊世界的飛機票。\n",
      "\n",
      "天使問60歲的老公：「你呢？許什麼願？」\n",
      "\n",
      "老公問：「真的一定會成全嗎？」\n",
      "\n",
      "天使說：「我從不反悔。」\n",
      "\n",
      "老公高興萬分的許願：「我希望我現在能抱著比我小30歲的女人。」 \n",
      "\n",
      "天使說：「成全你。」\n",
      "\n",
      "噹！\n",
      "\n",
      "老公變成了90歲。\n"
     ]
    }
   ],
   "source": [
    "ccc='''有一對同齡夫婦，一齊歡度他們的60歲生日。\n",
    "\n",
    "正在熱鬧時，突然，天使出現了。\n",
    "\n",
    "天使說：「我祝福你們的60歲，你們許願吧，我一定成全。」\n",
    "\n",
    "60歲的老婆說：「我好想環遊世界。」 \n",
    "天使說：「成全你。」\n",
    "\n",
    "噹！ 太太手上是環遊世界的飛機票。\n",
    "\n",
    "天使問60歲的老公：「你呢？許什麼願？」\n",
    "\n",
    "老公問：「真的一定會成全嗎？」\n",
    "\n",
    "天使說：「我從不反悔。」\n",
    "\n",
    "老公高興萬分的許願：「我希望我現在能抱著比我小30歲的女人。」 \n",
    "\n",
    "天使說：「成全你。」\n",
    "\n",
    "噹！\n",
    "\n",
    "老公變成了90歲。'''\n",
    "print(ccc)\n"
   ]
  },
  {
   "cell_type": "code",
   "execution_count": 56,
   "metadata": {
    "collapsed": false
   },
   "outputs": [
    {
     "data": {
      "text/plain": [
       "'有一對同齡夫婦，一齊歡度他們的60歲生日。\\n\\n正在熱鬧時，突然，天使出現了。\\n\\n天使說：「我祝福你們的60歲，你們許願吧，我一定成全。」\\n\\n60歲的老婆說：「我好想環遊世界。」 \\n天使說：「成全你。」\\n\\n噹！ 太太手上是環遊世界的飛機票。\\n\\n天使問60歲的老公：「你呢？許什麼願？」\\n\\n老公問：「真的一定會成全嗎？」\\n\\n天使說：「我從不反悔。」\\n\\n老公高興萬分的許願：「我希望我現在能抱著比我小30歲的女人。」 \\n\\n天使說：「成全你。」\\n\\n噹！\\n\\n老公變成了90歲。'"
      ]
     },
     "execution_count": 56,
     "metadata": {},
     "output_type": "execute_result"
    }
   ],
   "source": [
    "'''有一對同齡夫婦，一齊歡度他們的60歲生日。\n",
    "\n",
    "正在熱鬧時，突然，天使出現了。\n",
    "\n",
    "天使說：「我祝福你們的60歲，你們許願吧，我一定成全。」\n",
    "\n",
    "60歲的老婆說：「我好想環遊世界。」 \n",
    "天使說：「成全你。」\n",
    "\n",
    "噹！ 太太手上是環遊世界的飛機票。\n",
    "\n",
    "天使問60歲的老公：「你呢？許什麼願？」\n",
    "\n",
    "老公問：「真的一定會成全嗎？」\n",
    "\n",
    "天使說：「我從不反悔。」\n",
    "\n",
    "老公高興萬分的許願：「我希望我現在能抱著比我小30歲的女人。」 \n",
    "\n",
    "天使說：「成全你。」\n",
    "\n",
    "噹！\n",
    "\n",
    "老公變成了90歲。'''"
   ]
  },
  {
   "cell_type": "code",
   "execution_count": 57,
   "metadata": {
    "collapsed": false
   },
   "outputs": [
    {
     "name": "stdout",
     "output_type": "stream",
     "text": [
      "有一對同齡夫婦，一齊歡度他們的60歲生日。\n",
      "\n",
      "正在熱鬧時，突然，天使出現了。\n",
      "\n",
      "天使說：「我祝福你們的60歲，你們許願吧，我一定成全。」\n",
      "\n",
      "60歲的老婆說：「我好想環遊世界。」 \n",
      "天使說：「成全你。」\n",
      "\n",
      "噹！ 太太手上是環遊世界的飛機票。\n",
      "\n",
      "天使問60歲的老公：「你呢？許什麼願？」\n",
      "\n",
      "老公問：「真的一定會成全嗎？」\n",
      "\n",
      "天使說：「我從不反悔。」\n",
      "\n",
      "老公高興萬分的許願：「我希望我現在能抱著比我小30歲的女人。」 \n",
      "\n",
      "天使說：「成全你。」\n",
      "\n",
      "噹！\n",
      "\n",
      "老公變成了90歲。\n"
     ]
    }
   ],
   "source": [
    "www='有一對同齡夫婦，一齊歡度他們的60歲生日。\\n\\n正在熱鬧時，突然，天使出現了。\\n\\n天使說：「我祝福你們的60歲，你們許願吧，我一定成全。」\\n\\n60歲的老婆說：「我好想環遊世界。」 \\n天使說：「成全你。」\\n\\n噹！ 太太手上是環遊世界的飛機票。\\n\\n天使問60歲的老公：「你呢？許什麼願？」\\n\\n老公問：「真的一定會成全嗎？」\\n\\n天使說：「我從不反悔。」\\n\\n老公高興萬分的許願：「我希望我現在能抱著比我小30歲的女人。」 \\n\\n天使說：「成全你。」\\n\\n噹！\\n\\n老公變成了90歲。'\n",
    "print(www)"
   ]
  },
  {
   "cell_type": "raw",
   "metadata": {},
   "source": []
  },
  {
   "cell_type": "code",
   "execution_count": 60,
   "metadata": {
    "collapsed": false
   },
   "outputs": [
    {
     "name": "stdout",
     "output_type": "stream",
     "text": [
      "30\t678\n"
     ]
    }
   ],
   "source": [
    "print(\"30\\t678\")"
   ]
  },
  {
   "cell_type": "code",
   "execution_count": 62,
   "metadata": {
    "collapsed": false
   },
   "outputs": [
    {
     "data": {
      "text/plain": [
       "'不知道耶，至少要很man  gg了~~~~~~~~~~~~~~~~~~~~~~~~~~'"
      ]
     },
     "execution_count": 62,
     "metadata": {},
     "output_type": "execute_result"
    }
   ],
   "source": [
    "\"不知道耶，至少要很man\"+\"  gg了~~~~~~~~~~~~~~~~~~~~~~~~~~\""
   ]
  },
  {
   "cell_type": "code",
   "execution_count": 63,
   "metadata": {
    "collapsed": false
   },
   "outputs": [
    {
     "data": {
      "text/plain": [
       "'cdefgh'"
      ]
     },
     "execution_count": 63,
     "metadata": {},
     "output_type": "execute_result"
    }
   ],
   "source": [
    "English='abcdefghijklmnopqrstuvwxyz'\n",
    "English[2:8]"
   ]
  },
  {
   "cell_type": "code",
   "execution_count": 64,
   "metadata": {
    "collapsed": false
   },
   "outputs": [
    {
     "data": {
      "text/plain": [
       "'abcdefghijklmnopqrstuvwxt'"
      ]
     },
     "execution_count": 64,
     "metadata": {},
     "output_type": "execute_result"
    }
   ],
   "source": [
    "English='abcdefghijklmnopqrstuvwxtz'\n",
    "English[0:25]"
   ]
  },
  {
   "cell_type": "code",
   "execution_count": 65,
   "metadata": {
    "collapsed": false
   },
   "outputs": [
    {
     "data": {
      "text/plain": [
       "'abcdefghijklmnopqrstuvwxy'"
      ]
     },
     "execution_count": 65,
     "metadata": {},
     "output_type": "execute_result"
    }
   ],
   "source": [
    "English='abcdefghijklmnopqrstuvwxyz'\n",
    "English[0:25]"
   ]
  },
  {
   "cell_type": "code",
   "execution_count": 66,
   "metadata": {
    "collapsed": false
   },
   "outputs": [
    {
     "data": {
      "text/plain": [
       "'abcdefghijklmnopqrstuvwxyz'"
      ]
     },
     "execution_count": 66,
     "metadata": {},
     "output_type": "execute_result"
    }
   ],
   "source": [
    "English='abcdefghijklmnopqrstuvwxyz'\n",
    "English[0:26]"
   ]
  },
  {
   "cell_type": "code",
   "execution_count": 67,
   "metadata": {
    "collapsed": false
   },
   "outputs": [
    {
     "data": {
      "text/plain": [
       "'abcdefghijklmnopqrstuvwxyz'"
      ]
     },
     "execution_count": 67,
     "metadata": {},
     "output_type": "execute_result"
    }
   ],
   "source": [
    "English='abcdefghijklmnopqrstuvwxyz'\n",
    "English[:]"
   ]
  },
  {
   "cell_type": "code",
   "execution_count": 68,
   "metadata": {
    "collapsed": false
   },
   "outputs": [
    {
     "data": {
      "text/plain": [
       "'klmnopqrstuvwxyz'"
      ]
     },
     "execution_count": 68,
     "metadata": {},
     "output_type": "execute_result"
    }
   ],
   "source": [
    "English='abcdefghijklmnopqrstuvwxyz'\n",
    "English[10:]"
   ]
  },
  {
   "cell_type": "code",
   "execution_count": 69,
   "metadata": {
    "collapsed": false
   },
   "outputs": [
    {
     "data": {
      "text/plain": [
       "'uvwx'"
      ]
     },
     "execution_count": 69,
     "metadata": {},
     "output_type": "execute_result"
    }
   ],
   "source": [
    "English='abcdefghijklmnopqrstuvwxyz'\n",
    "English[20:-2]"
   ]
  },
  {
   "cell_type": "code",
   "execution_count": 70,
   "metadata": {
    "collapsed": false
   },
   "outputs": [
    {
     "data": {
      "text/plain": [
       "'xy'"
      ]
     },
     "execution_count": 70,
     "metadata": {},
     "output_type": "execute_result"
    }
   ],
   "source": [
    "English='abcdefghijklmnopqrstuvwxyz'\n",
    "English[-3:-1]"
   ]
  },
  {
   "cell_type": "code",
   "execution_count": null,
   "metadata": {
    "collapsed": true
   },
   "outputs": [],
   "source": []
  }
 ],
 "metadata": {
  "kernelspec": {
   "display_name": "Python 3",
   "language": "python",
   "name": "python3"
  },
  "language_info": {
   "codemirror_mode": {
    "name": "ipython",
    "version": 3
   },
   "file_extension": ".py",
   "mimetype": "text/x-python",
   "name": "python",
   "nbconvert_exporter": "python",
   "pygments_lexer": "ipython3",
   "version": "3.4.3"
  }
 },
 "nbformat": 4,
 "nbformat_minor": 0
}
