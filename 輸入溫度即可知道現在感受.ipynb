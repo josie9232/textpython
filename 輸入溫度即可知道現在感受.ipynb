{
 "cells": [
  {
   "cell_type": "code",
   "execution_count": 1,
   "metadata": {
    "collapsed": false
   },
   "outputs": [
    {
     "name": "stdout",
     "output_type": "stream",
     "text": [
      "請輸入溫度26\n",
      "hot\n"
     ]
    }
   ],
   "source": [
    "a=int(input(\"請輸入溫度\"))\n",
    "if a<=10:\n",
    "   print(\"very cold\")\n",
    "elif 20>=a>10:\n",
    "   print(\"cold\")\n",
    "elif 26>a>=21:    \n",
    "   print(\"comfortable\")\n",
    "else:\n",
    "   print(\"hot\")"
   ]
  },
  {
   "cell_type": "code",
   "execution_count": 1,
   "metadata": {
    "collapsed": false
   },
   "outputs": [
    {
     "name": "stdout",
     "output_type": "stream",
     "text": [
      "請輸入溫度25\n",
      "comfortable\n"
     ]
    }
   ],
   "source": [
    "a=int(input(\"請輸入溫度\"))\n",
    "if a<=10:\n",
    "   print(\"very cold\")\n",
    "elif 20>=a>10:\n",
    "   print(\"cold\")\n",
    "elif 26>a>=21:    \n",
    "   print(\"comfortable\")\n",
    "else:\n",
    "   print(\"hot\")"
   ]
  },
  {
   "cell_type": "code",
   "execution_count": null,
   "metadata": {
    "collapsed": true
   },
   "outputs": [],
   "source": []
  }
 ],
 "metadata": {
  "kernelspec": {
   "display_name": "Python 3",
   "language": "python",
   "name": "python3"
  },
  "language_info": {
   "codemirror_mode": {
    "name": "ipython",
    "version": 3
   },
   "file_extension": ".py",
   "mimetype": "text/x-python",
   "name": "python",
   "nbconvert_exporter": "python",
   "pygments_lexer": "ipython3",
   "version": "3.4.3"
  }
 },
 "nbformat": 4,
 "nbformat_minor": 0
}
